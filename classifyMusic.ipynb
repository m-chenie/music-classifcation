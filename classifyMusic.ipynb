{
 "cells": [
  {
   "cell_type": "code",
   "execution_count": 1,
   "metadata": {},
   "outputs": [],
   "source": [
    "import json\n",
    "import os\n",
    "import math\n",
    "import librosa"
   ]
  },
  {
   "cell_type": "code",
   "execution_count": null,
   "metadata": {},
   "outputs": [],
   "source": [
    "DATASET_PATH = \"C://Users//miran//.vscode//musicClassification//Data//genres_original\"\n",
    "JSON_PATH = \"data_map.json\"\n",
    "SAMPLE_RATE = 22050\n",
    "TRACK_DURATION = 30 # measured in seconds\n",
    "SAMPLES_PER_TRACK = SAMPLE_RATE * TRACK_DURATION"
   ]
  },
  {
   "cell_type": "markdown",
   "metadata": {},
   "source": [
    "# Data preprocessing and labeling"
   ]
  },
  {
   "cell_type": "code",
   "execution_count": null,
   "metadata": {},
   "outputs": [],
   "source": [
    "def get_mfcc(dataset_path, json_path, n_mfcc=13, n_fft=2048, blocksize=512, num_segments=5):\n",
    "   # dictionary to store mapping, labels, and MFCCs\n",
    "    data_map = {\n",
    "        \"mapping\": [],\n",
    "        \"labels\": [],\n",
    "        \"mfcc\": []\n",
    "    }\n",
    "\n",
    "    samples_per_segment = int(SAMPLES_PER_TRACK / num_segments)\n",
    "    num_mfcc_vectors_per_segment = math.ceil(samples_per_segment / blocksize)\n",
    "\n",
    "    for i, (root, dirs, files) in enumerate(os.walk(dataset_path)):\n",
    "\n",
    "      if root is dataset_path:\n",
    "        continue\n",
    "\n",
    "      # get genres of music\n",
    "      genre_label = root.split(\"/\")[-1]\n",
    "      data_map[\"mapping\"].append(genre_label)\n",
    "      \n",
    "      for file in files:\n",
    "\n",
    "        file_path = os.path.join(dirs, file)\n",
    "        audio_signal, sf = librosa.load(file_path, sr=SAMPLE_RATE)\n",
    "        \n",
    "        for seg in range(num_segments):\n",
    "          start_seg = samples_per_segment * seg\n",
    "          end_seg = start_seg + samples_per_segment\n",
    "\n",
    "          mfcc = librosa.feature.mfcc(audio_signal[start_seg:end_seg], sf, n_mfcc=n_mfcc, n_fft=n_fft, hop_length=blocksize)\n",
    "          mfcc = mfcc.T\n",
    "\n",
    "          if len(mfcc) == num_mfcc_vectors_per_segment:\n",
    "                data_map[\"mfcc\"].append(mfcc.tolist())\n",
    "                data_map[\"labels\"].append(i-1)\n",
    "                print(\"{}, segment:{}\".format(file_path, d+1))\n",
    "\n",
    "    # save mfcc to json\n",
    "    with open(json_path, \"w\") as fp:\n",
    "      json.dump(data_map, fp, indent=4)\n"
   ]
  }
 ],
 "metadata": {
  "kernelspec": {
   "display_name": "venv-music",
   "language": "python",
   "name": "python3"
  },
  "language_info": {
   "codemirror_mode": {
    "name": "ipython",
    "version": 3
   },
   "file_extension": ".py",
   "mimetype": "text/x-python",
   "name": "python",
   "nbconvert_exporter": "python",
   "pygments_lexer": "ipython3",
   "version": "3.11.4"
  }
 },
 "nbformat": 4,
 "nbformat_minor": 2
}
